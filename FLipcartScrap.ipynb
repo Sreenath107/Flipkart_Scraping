{
  "nbformat": 4,
  "nbformat_minor": 0,
  "metadata": {
    "colab": {
      "name": "FLipcartScrap.ipynb",
      "provenance": [],
      "collapsed_sections": [],
      "authorship_tag": "ABX9TyORqZPa6AhoHG/xVflWS/93",
      "include_colab_link": true
    },
    "kernelspec": {
      "name": "python3",
      "display_name": "Python 3"
    },
    "language_info": {
      "name": "python"
    }
  },
  "cells": [
    {
      "cell_type": "markdown",
      "metadata": {
        "id": "view-in-github",
        "colab_type": "text"
      },
      "source": [
        "<a href=\"https://colab.research.google.com/github/Sreenath107/Flipkart_Scraping/blob/main/FLipcartScrap.ipynb\" target=\"_parent\"><img src=\"https://colab.research.google.com/assets/colab-badge.svg\" alt=\"Open In Colab\"/></a>"
      ]
    },
    {
      "cell_type": "code",
      "metadata": {
        "id": "A6BTjO6GgDq_"
      },
      "source": [
        "import requests\n",
        "from bs4 import BeautifulSoup\n",
        "import pandas as pd\n",
        "import time\n",
        "from IPython.display import clear_output"
      ],
      "execution_count": 18,
      "outputs": []
    },
    {
      "cell_type": "code",
      "metadata": {
        "id": "PMRTEznEgaI8"
      },
      "source": [
        "url='https://www.flipkart.com/search?q=macbook&sid=6bo%2Cb5g&as=on&as-show=on&otracker=AS_QueryStore_OrganicAutoSuggest_1_3_na_na_na&otracker1=AS_QueryStore_OrganicAutoSuggest_1_3_na_na_na&as-pos=1&as-type=RECENT&suggestionId=macbook%7CLaptops&requestId=34648a6f-70a8-4e47-8e2c-d21a9c650f3d&as-searchtext=mac'\n",
        "req=requests.get(url)\n",
        "soup=BeautifulSoup(req.text,'html')"
      ],
      "execution_count": 19,
      "outputs": []
    },
    {
      "cell_type": "code",
      "metadata": {
        "id": "WocAuKNvhGCo",
        "colab": {
          "base_uri": "https://localhost:8080/",
          "height": 35
        },
        "outputId": "a9bfb2d2-79a1-46b1-b7f7-a57f220fc53e"
      },
      "source": [
        "soup.find('div',attrs={'class':'_4rR01T'}).text"
      ],
      "execution_count": 20,
      "outputs": [
        {
          "output_type": "execute_result",
          "data": {
            "application/vnd.google.colaboratory.intrinsic+json": {
              "type": "string"
            },
            "text/plain": [
              "'APPLE MacBook Air M1 - (8 GB/256 GB SSD/Mac OS Big Sur) MGN63HN/A'"
            ]
          },
          "metadata": {
            "tags": []
          },
          "execution_count": 20
        }
      ]
    },
    {
      "cell_type": "code",
      "metadata": {
        "id": "-BUVqPSzhh-x",
        "colab": {
          "base_uri": "https://localhost:8080/",
          "height": 35
        },
        "outputId": "8a7c9dee-139f-41c2-c53b-c9edb303ad13"
      },
      "source": [
        "soup.find('div',attrs={'class':'_3LWZlK'}).text"
      ],
      "execution_count": 21,
      "outputs": [
        {
          "output_type": "execute_result",
          "data": {
            "application/vnd.google.colaboratory.intrinsic+json": {
              "type": "string"
            },
            "text/plain": [
              "'4.8'"
            ]
          },
          "metadata": {
            "tags": []
          },
          "execution_count": 21
        }
      ]
    },
    {
      "cell_type": "code",
      "metadata": {
        "id": "-g0atzg6iHtV",
        "colab": {
          "base_uri": "https://localhost:8080/",
          "height": 35
        },
        "outputId": "450bfbec-0d06-4212-9d0f-e3e290eec903"
      },
      "source": [
        "soup.find('div',attrs={'class':'_30jeq3 _1_WHN1'}).text"
      ],
      "execution_count": 22,
      "outputs": [
        {
          "output_type": "execute_result",
          "data": {
            "application/vnd.google.colaboratory.intrinsic+json": {
              "type": "string"
            },
            "text/plain": [
              "'₹92,900'"
            ]
          },
          "metadata": {
            "tags": []
          },
          "execution_count": 22
        }
      ]
    },
    {
      "cell_type": "code",
      "metadata": {
        "id": "k7HfvKD4js81",
        "colab": {
          "base_uri": "https://localhost:8080/",
          "height": 35
        },
        "outputId": "2f0d23f5-beab-4349-a6b5-2da2f1607d7b"
      },
      "source": [
        "soup.find('span',attrs={'class':'_2_R_DZ'}).text"
      ],
      "execution_count": 23,
      "outputs": [
        {
          "output_type": "execute_result",
          "data": {
            "application/vnd.google.colaboratory.intrinsic+json": {
              "type": "string"
            },
            "text/plain": [
              "'1,102 Ratings\\xa0&\\xa0143 Reviews'"
            ]
          },
          "metadata": {
            "tags": []
          },
          "execution_count": 23
        }
      ]
    },
    {
      "cell_type": "code",
      "metadata": {
        "id": "JqGlfgsPkOAc",
        "colab": {
          "base_uri": "https://localhost:8080/",
          "height": 69
        },
        "outputId": "120f4d4b-51ed-421a-d7e5-23286ffda246"
      },
      "source": [
        "soup.find('div',attrs={'class':'fMghEO'}).text"
      ],
      "execution_count": 24,
      "outputs": [
        {
          "output_type": "execute_result",
          "data": {
            "application/vnd.google.colaboratory.intrinsic+json": {
              "type": "string"
            },
            "text/plain": [
              "'Apple M1 Processor8 GB DDR4 RAMMac OS Operating System256 GB SSD33.78 cm (13.3 inch) DisplayBuilt-in Apps: iMovie, Siri, GarageBand, Pages, Numbers, Photos, Keynote, Safari, Mail, FaceTime, Messages, Maps, Stocks, Home, Voice Memos, Notes, Calendar, Contacts, Reminders, Photo Booth, Preview, Books, App Store, Time Machine, TV, Music, Podcasts, Find My, QuickTime Player1 Year Limited Warra\\xadnty'"
            ]
          },
          "metadata": {
            "tags": []
          },
          "execution_count": 24
        }
      ]
    },
    {
      "cell_type": "code",
      "metadata": {
        "id": "FZTH-Byhkpef",
        "colab": {
          "base_uri": "https://localhost:8080/"
        },
        "outputId": "e9859a8b-eb63-4853-d5f0-d480c01894d7"
      },
      "source": [
        "Name=soup.findAll('div',attrs={'class':'_4rR01T'})\n",
        "Na_me=[i.text for i in Name]\n",
        "Na_me"
      ],
      "execution_count": 25,
      "outputs": [
        {
          "output_type": "execute_result",
          "data": {
            "text/plain": [
              "['APPLE MacBook Air M1 - (8 GB/256 GB SSD/Mac OS Big Sur) MGN63HN/A',\n",
              " 'APPLE MacBook Air M1 - (8 GB/256 GB SSD/Mac OS Big Sur) MGND3HN/A',\n",
              " 'APPLE MacBook Air M1 - (8 GB/512 GB SSD/Mac OS Big Sur) MGNA3HN/A',\n",
              " 'APPLE MacBook Air M1 - (8 GB/512 GB SSD/Mac OS Big Sur) MGNE3HN/A',\n",
              " 'APPLE MacBook Air M1 - (8 GB/512 GB SSD/Mac OS Big Sur) MGN73HN/A',\n",
              " 'APPLE MacBook Air Core i5 10th Gen - (8 GB/512 GB SSD/Mac OS Catalina) MVH52HN/A',\n",
              " 'APPLE MacBook Air Core i5 10th Gen - (8 GB/512 GB SSD/Mac OS Catalina) MVH22HN/A',\n",
              " 'APPLE MacBook Air Core i5 10th Gen - (8 GB/256 GB SSD/Mac OS Catalina) Z0YJ001KD',\n",
              " 'APPLE MacBook Air Core i3 10th Gen - (8 GB/256 GB SSD/Mac OS Catalina) MWTJ2HN/A',\n",
              " 'APPLE MacBook Pro M1 - (8 GB/256 GB SSD/Mac OS Big Sur) MYD82HN/A',\n",
              " 'APPLE MacBook Pro M1 - (8 GB/512 GB SSD/Mac OS Big Sur) MYDC2HN/A',\n",
              " 'APPLE MacBook Pro M1 - (8 GB/512 GB SSD/Mac OS Big Sur) MYD92HN/A',\n",
              " 'APPLE MacBook Pro M1 - (8 GB/256 GB SSD/Mac OS Big Sur) MYDA2HN/A',\n",
              " 'APPLE MacBook Pro Core i7 9th Gen - (16 GB/512 GB SSD/Mac OS Catalina/4 GB Graphics) MVVJ2HN/A',\n",
              " 'APPLE MacBook Pro Core i7 9th Gen - (16 GB/512 GB SSD/Mac OS Catalina/4 GB Graphics) MVVL2HN/A',\n",
              " 'APPLE MacBook Pro Core i5 8th Gen - (8 GB/512 GB SSD/Mac OS Mojave) MV972HN/A',\n",
              " 'APPLE MacBook Pro Core i9 9th Gen - (16 GB/1 TB SSD/Mac OS Catalina/4 GB Graphics) MVVK2HN/A',\n",
              " 'APPLE MacBook Pro Core i9 9th Gen - (16 GB/1 TB SSD/Mac OS Catalina/4 GB Graphics) MVVM2HN/A',\n",
              " 'APPLE MacBook Pro Core i5 8th Gen - (8 GB/512 GB SSD/Mac OS Mojave) MV9A2HN/A',\n",
              " 'APPLE MacBook Pro with Touch Bar Core i5 8th Gen - (8 GB/256 GB SSD/Mac OS Catalina) MXK32HN/A',\n",
              " 'APPLE MacBook Pro with Touch Bar Core i5 10th Gen - (16 GB/1 TB SSD/Mac OS Catalina) MWP52HN/A',\n",
              " 'APPLE MacBook Pro with Touch Bar Core i5 10th Gen - (16 GB/512 GB SSD/Mac OS Catalina) MWP42HN/A',\n",
              " 'APPLE MacBook Pro with Touch Bar Core i5 8th Gen - (8 GB/512 GB SSD/Mac OS Catalina) MXK72HN/A',\n",
              " 'APPLE MacBook Pro with Touch Bar Core i5 10th Gen - (16 GB/512 GB SSD/Mac OS Catalina) MWP72HN/A']"
            ]
          },
          "metadata": {
            "tags": []
          },
          "execution_count": 25
        }
      ]
    },
    {
      "cell_type": "code",
      "metadata": {
        "id": "WJoRb55UlqiO",
        "colab": {
          "base_uri": "https://localhost:8080/"
        },
        "outputId": "566f524c-28aa-453c-9971-b95158cac7b9"
      },
      "source": [
        "Amount=soup.findAll('div',attrs={'class':'_30jeq3 _1_WHN1'})\n",
        "Am_ount=[i.text for i in Amount]\n",
        "Am_ount"
      ],
      "execution_count": 26,
      "outputs": [
        {
          "output_type": "execute_result",
          "data": {
            "text/plain": [
              "['₹92,900',\n",
              " '₹92,900',\n",
              " '₹1,12,990',\n",
              " '₹1,12,990',\n",
              " '₹1,12,990',\n",
              " '₹99,990',\n",
              " '₹1,07,990',\n",
              " '₹92,990',\n",
              " '₹92,990',\n",
              " '₹1,14,990',\n",
              " '₹1,32,990',\n",
              " '₹1,32,990',\n",
              " '₹1,14,990',\n",
              " '₹1,85,659',\n",
              " '₹1,85,659',\n",
              " '₹1,65,990',\n",
              " '₹2,19,990',\n",
              " '₹2,19,990',\n",
              " '₹1,65,990',\n",
              " '₹99,990',\n",
              " '₹1,84,978',\n",
              " '₹1,65,996',\n",
              " '₹1,32,990',\n",
              " '₹1,64,990']"
            ]
          },
          "metadata": {
            "tags": []
          },
          "execution_count": 26
        }
      ]
    },
    {
      "cell_type": "code",
      "metadata": {
        "id": "pDx1r4N6mogc",
        "colab": {
          "base_uri": "https://localhost:8080/"
        },
        "outputId": "a705ca75-f2b2-4f6d-ecdc-1a12906a70fb"
      },
      "source": [
        "Rating=soup.findAll('span',attrs={'class':'_2_R_DZ'})\n",
        "Ra_ting=[i.text.split('&') for i in Rating]\n",
        "Ra_ting"
      ],
      "execution_count": 27,
      "outputs": [
        {
          "output_type": "execute_result",
          "data": {
            "text/plain": [
              "[['1,102 Ratings\\xa0', '\\xa0143 Reviews'],\n",
              " ['1,102 Ratings\\xa0', '\\xa0143 Reviews'],\n",
              " ['235 Ratings\\xa0', '\\xa034 Reviews'],\n",
              " ['235 Ratings\\xa0', '\\xa034 Reviews'],\n",
              " ['235 Ratings\\xa0', '\\xa034 Reviews'],\n",
              " ['367 Ratings\\xa0', '\\xa028 Reviews'],\n",
              " ['367 Ratings\\xa0', '\\xa028 Reviews'],\n",
              " ['367 Ratings\\xa0', '\\xa028 Reviews'],\n",
              " ['832 Ratings\\xa0', '\\xa093 Reviews'],\n",
              " ['258 Ratings\\xa0', '\\xa034 Reviews'],\n",
              " ['135 Ratings\\xa0', '\\xa018 Reviews'],\n",
              " ['135 Ratings\\xa0', '\\xa018 Reviews'],\n",
              " ['258 Ratings\\xa0', '\\xa034 Reviews'],\n",
              " ['317 Ratings\\xa0', '\\xa044 Reviews'],\n",
              " ['40 Ratings\\xa0', '\\xa07 Reviews'],\n",
              " ['100 Ratings\\xa0', '\\xa014 Reviews'],\n",
              " ['117 Ratings\\xa0', '\\xa014 Reviews'],\n",
              " ['36 Ratings\\xa0', '\\xa04 Reviews'],\n",
              " ['100 Ratings\\xa0', '\\xa014 Reviews'],\n",
              " ['239 Ratings\\xa0', '\\xa035 Reviews'],\n",
              " ['85 Ratings\\xa0', '\\xa05 Reviews'],\n",
              " ['169 Ratings\\xa0', '\\xa023 Reviews'],\n",
              " ['17 Ratings\\xa0', '\\xa01 Reviews'],\n",
              " ['27 Ratings\\xa0', '\\xa05 Reviews']]"
            ]
          },
          "metadata": {
            "tags": []
          },
          "execution_count": 27
        }
      ]
    },
    {
      "cell_type": "code",
      "metadata": {
        "id": "Z1sRVN0amQ6l",
        "colab": {
          "base_uri": "https://localhost:8080/"
        },
        "outputId": "060dd5c9-386e-421a-c40a-00587cb5ccd3"
      },
      "source": [
        "Spec=soup.findAll('div',attrs={'class':'fMghEO'})\n",
        "S_pec=[i.text.split('&') for i in Spec]\n",
        "print(len(S_pec))"
      ],
      "execution_count": 28,
      "outputs": [
        {
          "output_type": "stream",
          "text": [
            "24\n"
          ],
          "name": "stdout"
        }
      ]
    },
    {
      "cell_type": "code",
      "metadata": {
        "colab": {
          "base_uri": "https://localhost:8080/",
          "height": 793
        },
        "id": "o3B15JlsnHZO",
        "outputId": "f7f4167e-5519-4310-b3a7-2543dacbd8bb"
      },
      "source": [
        "pd.DataFrame({'Proname':Na_me,\n",
        "              'Proamount':Am_ount,\n",
        "              'Prorating':Ra_ting,\n",
        "              'Prospec':S_pec})"
      ],
      "execution_count": 29,
      "outputs": [
        {
          "output_type": "execute_result",
          "data": {
            "text/html": [
              "<div>\n",
              "<style scoped>\n",
              "    .dataframe tbody tr th:only-of-type {\n",
              "        vertical-align: middle;\n",
              "    }\n",
              "\n",
              "    .dataframe tbody tr th {\n",
              "        vertical-align: top;\n",
              "    }\n",
              "\n",
              "    .dataframe thead th {\n",
              "        text-align: right;\n",
              "    }\n",
              "</style>\n",
              "<table border=\"1\" class=\"dataframe\">\n",
              "  <thead>\n",
              "    <tr style=\"text-align: right;\">\n",
              "      <th></th>\n",
              "      <th>Proname</th>\n",
              "      <th>Proamount</th>\n",
              "      <th>Prorating</th>\n",
              "      <th>Prospec</th>\n",
              "    </tr>\n",
              "  </thead>\n",
              "  <tbody>\n",
              "    <tr>\n",
              "      <th>0</th>\n",
              "      <td>APPLE MacBook Air M1 - (8 GB/256 GB SSD/Mac OS...</td>\n",
              "      <td>₹92,900</td>\n",
              "      <td>[1,102 Ratings ,  143 Reviews]</td>\n",
              "      <td>[Apple M1 Processor8 GB DDR4 RAMMac OS Operati...</td>\n",
              "    </tr>\n",
              "    <tr>\n",
              "      <th>1</th>\n",
              "      <td>APPLE MacBook Air M1 - (8 GB/256 GB SSD/Mac OS...</td>\n",
              "      <td>₹92,900</td>\n",
              "      <td>[1,102 Ratings ,  143 Reviews]</td>\n",
              "      <td>[Apple M1 Processor8 GB DDR4 RAMMac OS Operati...</td>\n",
              "    </tr>\n",
              "    <tr>\n",
              "      <th>2</th>\n",
              "      <td>APPLE MacBook Air M1 - (8 GB/512 GB SSD/Mac OS...</td>\n",
              "      <td>₹1,12,990</td>\n",
              "      <td>[235 Ratings ,  34 Reviews]</td>\n",
              "      <td>[Apple M1 Processor8 GB DDR4 RAMMac OS Operati...</td>\n",
              "    </tr>\n",
              "    <tr>\n",
              "      <th>3</th>\n",
              "      <td>APPLE MacBook Air M1 - (8 GB/512 GB SSD/Mac OS...</td>\n",
              "      <td>₹1,12,990</td>\n",
              "      <td>[235 Ratings ,  34 Reviews]</td>\n",
              "      <td>[Apple M1 Processor8 GB DDR4 RAMMac OS Operati...</td>\n",
              "    </tr>\n",
              "    <tr>\n",
              "      <th>4</th>\n",
              "      <td>APPLE MacBook Air M1 - (8 GB/512 GB SSD/Mac OS...</td>\n",
              "      <td>₹1,12,990</td>\n",
              "      <td>[235 Ratings ,  34 Reviews]</td>\n",
              "      <td>[Apple M1 Processor8 GB DDR4 RAMMac OS Operati...</td>\n",
              "    </tr>\n",
              "    <tr>\n",
              "      <th>5</th>\n",
              "      <td>APPLE MacBook Air Core i5 10th Gen - (8 GB/512...</td>\n",
              "      <td>₹99,990</td>\n",
              "      <td>[367 Ratings ,  28 Reviews]</td>\n",
              "      <td>[Intel Core i5 Processor (10th Gen)8 GB LPDDR4...</td>\n",
              "    </tr>\n",
              "    <tr>\n",
              "      <th>6</th>\n",
              "      <td>APPLE MacBook Air Core i5 10th Gen - (8 GB/512...</td>\n",
              "      <td>₹1,07,990</td>\n",
              "      <td>[367 Ratings ,  28 Reviews]</td>\n",
              "      <td>[Intel Core i5 Processor (10th Gen)8 GB LPDDR4...</td>\n",
              "    </tr>\n",
              "    <tr>\n",
              "      <th>7</th>\n",
              "      <td>APPLE MacBook Air Core i5 10th Gen - (8 GB/256...</td>\n",
              "      <td>₹92,990</td>\n",
              "      <td>[367 Ratings ,  28 Reviews]</td>\n",
              "      <td>[Intel Core i5 Processor (10th Gen)8 GB LPDDR4...</td>\n",
              "    </tr>\n",
              "    <tr>\n",
              "      <th>8</th>\n",
              "      <td>APPLE MacBook Air Core i3 10th Gen - (8 GB/256...</td>\n",
              "      <td>₹92,990</td>\n",
              "      <td>[832 Ratings ,  93 Reviews]</td>\n",
              "      <td>[Intel Core i3 Processor (10th Gen)8 GB LPDDR4...</td>\n",
              "    </tr>\n",
              "    <tr>\n",
              "      <th>9</th>\n",
              "      <td>APPLE MacBook Pro M1 - (8 GB/256 GB SSD/Mac OS...</td>\n",
              "      <td>₹1,14,990</td>\n",
              "      <td>[258 Ratings ,  34 Reviews]</td>\n",
              "      <td>[Apple M1 Processor8 GB DDR4 RAMMac OS Operati...</td>\n",
              "    </tr>\n",
              "    <tr>\n",
              "      <th>10</th>\n",
              "      <td>APPLE MacBook Pro M1 - (8 GB/512 GB SSD/Mac OS...</td>\n",
              "      <td>₹1,32,990</td>\n",
              "      <td>[135 Ratings ,  18 Reviews]</td>\n",
              "      <td>[Apple M1 Processor8 GB DDR4 RAMMac OS Operati...</td>\n",
              "    </tr>\n",
              "    <tr>\n",
              "      <th>11</th>\n",
              "      <td>APPLE MacBook Pro M1 - (8 GB/512 GB SSD/Mac OS...</td>\n",
              "      <td>₹1,32,990</td>\n",
              "      <td>[135 Ratings ,  18 Reviews]</td>\n",
              "      <td>[Apple M1 Processor8 GB DDR4 RAMMac OS Operati...</td>\n",
              "    </tr>\n",
              "    <tr>\n",
              "      <th>12</th>\n",
              "      <td>APPLE MacBook Pro M1 - (8 GB/256 GB SSD/Mac OS...</td>\n",
              "      <td>₹1,14,990</td>\n",
              "      <td>[258 Ratings ,  34 Reviews]</td>\n",
              "      <td>[Apple M1 Processor8 GB DDR4 RAMMac OS Operati...</td>\n",
              "    </tr>\n",
              "    <tr>\n",
              "      <th>13</th>\n",
              "      <td>APPLE MacBook Pro Core i7 9th Gen - (16 GB/512...</td>\n",
              "      <td>₹1,85,659</td>\n",
              "      <td>[317 Ratings ,  44 Reviews]</td>\n",
              "      <td>[Intel Core i7 Processor (9th Gen)16 GB DDR4 R...</td>\n",
              "    </tr>\n",
              "    <tr>\n",
              "      <th>14</th>\n",
              "      <td>APPLE MacBook Pro Core i7 9th Gen - (16 GB/512...</td>\n",
              "      <td>₹1,85,659</td>\n",
              "      <td>[40 Ratings ,  7 Reviews]</td>\n",
              "      <td>[Intel Core i7 Processor (9th Gen)16 GB DDR4 R...</td>\n",
              "    </tr>\n",
              "    <tr>\n",
              "      <th>15</th>\n",
              "      <td>APPLE MacBook Pro Core i5 8th Gen - (8 GB/512 ...</td>\n",
              "      <td>₹1,65,990</td>\n",
              "      <td>[100 Ratings ,  14 Reviews]</td>\n",
              "      <td>[Intel Core i5 Processor (8th Gen)8 GB DDR3 RA...</td>\n",
              "    </tr>\n",
              "    <tr>\n",
              "      <th>16</th>\n",
              "      <td>APPLE MacBook Pro Core i9 9th Gen - (16 GB/1 T...</td>\n",
              "      <td>₹2,19,990</td>\n",
              "      <td>[117 Ratings ,  14 Reviews]</td>\n",
              "      <td>[Intel Core i9 Processor (9th Gen)16 GB DDR4 R...</td>\n",
              "    </tr>\n",
              "    <tr>\n",
              "      <th>17</th>\n",
              "      <td>APPLE MacBook Pro Core i9 9th Gen - (16 GB/1 T...</td>\n",
              "      <td>₹2,19,990</td>\n",
              "      <td>[36 Ratings ,  4 Reviews]</td>\n",
              "      <td>[Intel Core i9 Processor (9th Gen)16 GB DDR4 R...</td>\n",
              "    </tr>\n",
              "    <tr>\n",
              "      <th>18</th>\n",
              "      <td>APPLE MacBook Pro Core i5 8th Gen - (8 GB/512 ...</td>\n",
              "      <td>₹1,65,990</td>\n",
              "      <td>[100 Ratings ,  14 Reviews]</td>\n",
              "      <td>[Intel Core i5 Processor (8th Gen)8 GB DDR3 RA...</td>\n",
              "    </tr>\n",
              "    <tr>\n",
              "      <th>19</th>\n",
              "      <td>APPLE MacBook Pro with Touch Bar Core i5 8th G...</td>\n",
              "      <td>₹99,990</td>\n",
              "      <td>[239 Ratings ,  35 Reviews]</td>\n",
              "      <td>[Intel Core i5 Processor (8th Gen)8 GB LPDDR3 ...</td>\n",
              "    </tr>\n",
              "    <tr>\n",
              "      <th>20</th>\n",
              "      <td>APPLE MacBook Pro with Touch Bar Core i5 10th ...</td>\n",
              "      <td>₹1,84,978</td>\n",
              "      <td>[85 Ratings ,  5 Reviews]</td>\n",
              "      <td>[Intel Core i5 Processor (10th Gen)16 GB LPDDR...</td>\n",
              "    </tr>\n",
              "    <tr>\n",
              "      <th>21</th>\n",
              "      <td>APPLE MacBook Pro with Touch Bar Core i5 10th ...</td>\n",
              "      <td>₹1,65,996</td>\n",
              "      <td>[169 Ratings ,  23 Reviews]</td>\n",
              "      <td>[Intel Core i5 Processor (10th Gen)16 GB LPDDR...</td>\n",
              "    </tr>\n",
              "    <tr>\n",
              "      <th>22</th>\n",
              "      <td>APPLE MacBook Pro with Touch Bar Core i5 8th G...</td>\n",
              "      <td>₹1,32,990</td>\n",
              "      <td>[17 Ratings ,  1 Reviews]</td>\n",
              "      <td>[Intel Core i5 Processor (8th Gen)8 GB LPDDR3 ...</td>\n",
              "    </tr>\n",
              "    <tr>\n",
              "      <th>23</th>\n",
              "      <td>APPLE MacBook Pro with Touch Bar Core i5 10th ...</td>\n",
              "      <td>₹1,64,990</td>\n",
              "      <td>[27 Ratings ,  5 Reviews]</td>\n",
              "      <td>[Intel Core i5 Processor (10th Gen)16 GB LPDDR...</td>\n",
              "    </tr>\n",
              "  </tbody>\n",
              "</table>\n",
              "</div>"
            ],
            "text/plain": [
              "                                              Proname  ...                                            Prospec\n",
              "0   APPLE MacBook Air M1 - (8 GB/256 GB SSD/Mac OS...  ...  [Apple M1 Processor8 GB DDR4 RAMMac OS Operati...\n",
              "1   APPLE MacBook Air M1 - (8 GB/256 GB SSD/Mac OS...  ...  [Apple M1 Processor8 GB DDR4 RAMMac OS Operati...\n",
              "2   APPLE MacBook Air M1 - (8 GB/512 GB SSD/Mac OS...  ...  [Apple M1 Processor8 GB DDR4 RAMMac OS Operati...\n",
              "3   APPLE MacBook Air M1 - (8 GB/512 GB SSD/Mac OS...  ...  [Apple M1 Processor8 GB DDR4 RAMMac OS Operati...\n",
              "4   APPLE MacBook Air M1 - (8 GB/512 GB SSD/Mac OS...  ...  [Apple M1 Processor8 GB DDR4 RAMMac OS Operati...\n",
              "5   APPLE MacBook Air Core i5 10th Gen - (8 GB/512...  ...  [Intel Core i5 Processor (10th Gen)8 GB LPDDR4...\n",
              "6   APPLE MacBook Air Core i5 10th Gen - (8 GB/512...  ...  [Intel Core i5 Processor (10th Gen)8 GB LPDDR4...\n",
              "7   APPLE MacBook Air Core i5 10th Gen - (8 GB/256...  ...  [Intel Core i5 Processor (10th Gen)8 GB LPDDR4...\n",
              "8   APPLE MacBook Air Core i3 10th Gen - (8 GB/256...  ...  [Intel Core i3 Processor (10th Gen)8 GB LPDDR4...\n",
              "9   APPLE MacBook Pro M1 - (8 GB/256 GB SSD/Mac OS...  ...  [Apple M1 Processor8 GB DDR4 RAMMac OS Operati...\n",
              "10  APPLE MacBook Pro M1 - (8 GB/512 GB SSD/Mac OS...  ...  [Apple M1 Processor8 GB DDR4 RAMMac OS Operati...\n",
              "11  APPLE MacBook Pro M1 - (8 GB/512 GB SSD/Mac OS...  ...  [Apple M1 Processor8 GB DDR4 RAMMac OS Operati...\n",
              "12  APPLE MacBook Pro M1 - (8 GB/256 GB SSD/Mac OS...  ...  [Apple M1 Processor8 GB DDR4 RAMMac OS Operati...\n",
              "13  APPLE MacBook Pro Core i7 9th Gen - (16 GB/512...  ...  [Intel Core i7 Processor (9th Gen)16 GB DDR4 R...\n",
              "14  APPLE MacBook Pro Core i7 9th Gen - (16 GB/512...  ...  [Intel Core i7 Processor (9th Gen)16 GB DDR4 R...\n",
              "15  APPLE MacBook Pro Core i5 8th Gen - (8 GB/512 ...  ...  [Intel Core i5 Processor (8th Gen)8 GB DDR3 RA...\n",
              "16  APPLE MacBook Pro Core i9 9th Gen - (16 GB/1 T...  ...  [Intel Core i9 Processor (9th Gen)16 GB DDR4 R...\n",
              "17  APPLE MacBook Pro Core i9 9th Gen - (16 GB/1 T...  ...  [Intel Core i9 Processor (9th Gen)16 GB DDR4 R...\n",
              "18  APPLE MacBook Pro Core i5 8th Gen - (8 GB/512 ...  ...  [Intel Core i5 Processor (8th Gen)8 GB DDR3 RA...\n",
              "19  APPLE MacBook Pro with Touch Bar Core i5 8th G...  ...  [Intel Core i5 Processor (8th Gen)8 GB LPDDR3 ...\n",
              "20  APPLE MacBook Pro with Touch Bar Core i5 10th ...  ...  [Intel Core i5 Processor (10th Gen)16 GB LPDDR...\n",
              "21  APPLE MacBook Pro with Touch Bar Core i5 10th ...  ...  [Intel Core i5 Processor (10th Gen)16 GB LPDDR...\n",
              "22  APPLE MacBook Pro with Touch Bar Core i5 8th G...  ...  [Intel Core i5 Processor (8th Gen)8 GB LPDDR3 ...\n",
              "23  APPLE MacBook Pro with Touch Bar Core i5 10th ...  ...  [Intel Core i5 Processor (10th Gen)16 GB LPDDR...\n",
              "\n",
              "[24 rows x 4 columns]"
            ]
          },
          "metadata": {
            "tags": []
          },
          "execution_count": 29
        }
      ]
    },
    {
      "cell_type": "code",
      "metadata": {
        "id": "Q0KLzGs5qyfK"
      },
      "source": [
        "base_url='https://www.flipkart.com/search?q=macbook&sid=6bo%2Cb5g&as=on&as-show=on&otracker=AS_QueryStore_OrganicAutoSuggest_1_3_na_na_na&otracker1=AS_QueryStore_OrganicAutoSuggest_1_3_na_na_na&as-pos=1&as-type=RECENT&suggestionId=macbook%7CLaptops&requestId=34648a6f-70a8-4e47-8e2c-d21a9c650f3d&as-searchtext=mac'"
      ],
      "execution_count": 30,
      "outputs": []
    },
    {
      "cell_type": "code",
      "metadata": {
        "id": "ZzXM88uD3JRl"
      },
      "source": [
        "Na = []\n",
        "Am = []\n",
        "Ra = []\n",
        "Sp = []\n",
        "St = []"
      ],
      "execution_count": 31,
      "outputs": []
    },
    {
      "cell_type": "code",
      "metadata": {
        "id": "xhyM9lpX3JUc"
      },
      "source": [
        "for i in range(1,3):\n",
        "  time.sleep(3)"
      ],
      "execution_count": 32,
      "outputs": []
    },
    {
      "cell_type": "code",
      "metadata": {
        "colab": {
          "base_uri": "https://localhost:8080/"
        },
        "id": "0GWMfX_-3JZR",
        "outputId": "bb1439d3-a1ed-4d38-fe28-9e6a593b9c23"
      },
      "source": [
        "print(f'Going to scrape data form {i} page')\n",
        "clear_output(wait=True)\n",
        "url=base_url+str(i)\n",
        "req = requests.get(url)\n",
        "soup= BeautifulSoup(req.text,'html')"
      ],
      "execution_count": 33,
      "outputs": [
        {
          "output_type": "stream",
          "text": [
            "Going to scrape data form 2 page\n"
          ],
          "name": "stdout"
        }
      ]
    },
    {
      "cell_type": "code",
      "metadata": {
        "id": "YH7AF-ru3JcG"
      },
      "source": [
        "Name=soup.findAll('div',attrs={'class':'_4rR01T'})\n",
        "for j in Name:\n",
        "  Na.append(j.text)\n",
        "  "
      ],
      "execution_count": 34,
      "outputs": []
    },
    {
      "cell_type": "code",
      "metadata": {
        "id": "X4b_Hx9W3JgC"
      },
      "source": [
        "Amount=soup.findAll('div',attrs={'class':'_30jeq3 _1_WHN1'})\n",
        "for j in Amount:\n",
        "  Am.append(j.text)"
      ],
      "execution_count": 35,
      "outputs": []
    },
    {
      "cell_type": "code",
      "metadata": {
        "id": "3RCQEUIm3JjP"
      },
      "source": [
        "Rating=soup.findAll('span',attrs={'class':'_2_R_DZ'})\n",
        "for j in Rating:\n",
        "  Ra.append(j.span.span.text)"
      ],
      "execution_count": 36,
      "outputs": []
    },
    {
      "cell_type": "code",
      "metadata": {
        "id": "0NWq85-t3JmF"
      },
      "source": [
        "Stars=soup.findAll('div',attrs={'class':'gUuXy-'})\n",
        "for j in Stars:\n",
        "  St.append(j.text)\n"
      ],
      "execution_count": 37,
      "outputs": []
    },
    {
      "cell_type": "code",
      "metadata": {
        "id": "NBM4y44H3JoU"
      },
      "source": [
        "Spec=soup.findAll('div',attrs={'class':'fMghEO'})\n",
        "for j in Spec:\n",
        "  Sp.append(j.text)"
      ],
      "execution_count": 38,
      "outputs": []
    },
    {
      "cell_type": "code",
      "metadata": {
        "colab": {
          "base_uri": "https://localhost:8080/",
          "height": 793
        },
        "id": "2-ywjDzr3Jql",
        "outputId": "41470bf2-cbb8-463e-8445-5ee95b911bb7"
      },
      "source": [
        "data=pd.DataFrame({'Proname':Na,\n",
        "              'Proamount':Am,\n",
        "              'Prorating':Ra,\n",
        "              'Stars':St,\n",
        "              'Prospec':Sp})\n",
        "data"
      ],
      "execution_count": 39,
      "outputs": [
        {
          "output_type": "execute_result",
          "data": {
            "text/html": [
              "<div>\n",
              "<style scoped>\n",
              "    .dataframe tbody tr th:only-of-type {\n",
              "        vertical-align: middle;\n",
              "    }\n",
              "\n",
              "    .dataframe tbody tr th {\n",
              "        vertical-align: top;\n",
              "    }\n",
              "\n",
              "    .dataframe thead th {\n",
              "        text-align: right;\n",
              "    }\n",
              "</style>\n",
              "<table border=\"1\" class=\"dataframe\">\n",
              "  <thead>\n",
              "    <tr style=\"text-align: right;\">\n",
              "      <th></th>\n",
              "      <th>Proname</th>\n",
              "      <th>Proamount</th>\n",
              "      <th>Prorating</th>\n",
              "      <th>Stars</th>\n",
              "      <th>Prospec</th>\n",
              "    </tr>\n",
              "  </thead>\n",
              "  <tbody>\n",
              "    <tr>\n",
              "      <th>0</th>\n",
              "      <td>APPLE MacBook Air M1 - (8 GB/256 GB SSD/Mac OS...</td>\n",
              "      <td>₹92,900</td>\n",
              "      <td>1,102 Ratings</td>\n",
              "      <td>4.81,102 Ratings &amp; 143 Reviews</td>\n",
              "      <td>Apple M1 Processor8 GB DDR4 RAMMac OS Operatin...</td>\n",
              "    </tr>\n",
              "    <tr>\n",
              "      <th>1</th>\n",
              "      <td>APPLE MacBook Air M1 - (8 GB/256 GB SSD/Mac OS...</td>\n",
              "      <td>₹92,900</td>\n",
              "      <td>1,102 Ratings</td>\n",
              "      <td>4.81,102 Ratings &amp; 143 Reviews</td>\n",
              "      <td>Apple M1 Processor8 GB DDR4 RAMMac OS Operatin...</td>\n",
              "    </tr>\n",
              "    <tr>\n",
              "      <th>2</th>\n",
              "      <td>APPLE MacBook Air M1 - (8 GB/512 GB SSD/Mac OS...</td>\n",
              "      <td>₹1,12,990</td>\n",
              "      <td>235 Ratings</td>\n",
              "      <td>4.7235 Ratings &amp; 34 Reviews</td>\n",
              "      <td>Apple M1 Processor8 GB DDR4 RAMMac OS Operatin...</td>\n",
              "    </tr>\n",
              "    <tr>\n",
              "      <th>3</th>\n",
              "      <td>APPLE MacBook Air M1 - (8 GB/512 GB SSD/Mac OS...</td>\n",
              "      <td>₹1,12,990</td>\n",
              "      <td>235 Ratings</td>\n",
              "      <td>4.7235 Ratings &amp; 34 Reviews</td>\n",
              "      <td>Apple M1 Processor8 GB DDR4 RAMMac OS Operatin...</td>\n",
              "    </tr>\n",
              "    <tr>\n",
              "      <th>4</th>\n",
              "      <td>APPLE MacBook Air M1 - (8 GB/512 GB SSD/Mac OS...</td>\n",
              "      <td>₹1,12,990</td>\n",
              "      <td>235 Ratings</td>\n",
              "      <td>4.7235 Ratings &amp; 34 Reviews</td>\n",
              "      <td>Apple M1 Processor8 GB DDR4 RAMMac OS Operatin...</td>\n",
              "    </tr>\n",
              "    <tr>\n",
              "      <th>5</th>\n",
              "      <td>APPLE MacBook Air Core i5 10th Gen - (8 GB/256...</td>\n",
              "      <td>₹92,990</td>\n",
              "      <td>367 Ratings</td>\n",
              "      <td>4.5367 Ratings &amp; 28 Reviews</td>\n",
              "      <td>Intel Core i5 Processor (10th Gen)8 GB LPDDR4X...</td>\n",
              "    </tr>\n",
              "    <tr>\n",
              "      <th>6</th>\n",
              "      <td>APPLE MacBook Air Core i5 10th Gen - (8 GB/512...</td>\n",
              "      <td>₹99,990</td>\n",
              "      <td>367 Ratings</td>\n",
              "      <td>4.5367 Ratings &amp; 28 Reviews</td>\n",
              "      <td>Intel Core i5 Processor (10th Gen)8 GB LPDDR4X...</td>\n",
              "    </tr>\n",
              "    <tr>\n",
              "      <th>7</th>\n",
              "      <td>APPLE MacBook Air Core i5 10th Gen - (8 GB/512...</td>\n",
              "      <td>₹1,07,990</td>\n",
              "      <td>367 Ratings</td>\n",
              "      <td>4.5367 Ratings &amp; 28 Reviews</td>\n",
              "      <td>Intel Core i5 Processor (10th Gen)8 GB LPDDR4X...</td>\n",
              "    </tr>\n",
              "    <tr>\n",
              "      <th>8</th>\n",
              "      <td>APPLE MacBook Air Core i3 10th Gen - (8 GB/256...</td>\n",
              "      <td>₹92,990</td>\n",
              "      <td>832 Ratings</td>\n",
              "      <td>4.6832 Ratings &amp; 93 Reviews</td>\n",
              "      <td>Intel Core i3 Processor (10th Gen)8 GB LPDDR4X...</td>\n",
              "    </tr>\n",
              "    <tr>\n",
              "      <th>9</th>\n",
              "      <td>APPLE MacBook Pro M1 - (8 GB/512 GB SSD/Mac OS...</td>\n",
              "      <td>₹1,32,990</td>\n",
              "      <td>135 Ratings</td>\n",
              "      <td>4.7135 Ratings &amp; 18 Reviews</td>\n",
              "      <td>Apple M1 Processor8 GB DDR4 RAMMac OS Operatin...</td>\n",
              "    </tr>\n",
              "    <tr>\n",
              "      <th>10</th>\n",
              "      <td>APPLE MacBook Pro M1 - (8 GB/256 GB SSD/Mac OS...</td>\n",
              "      <td>₹1,14,990</td>\n",
              "      <td>258 Ratings</td>\n",
              "      <td>4.7258 Ratings &amp; 34 Reviews</td>\n",
              "      <td>Apple M1 Processor8 GB DDR4 RAMMac OS Operatin...</td>\n",
              "    </tr>\n",
              "    <tr>\n",
              "      <th>11</th>\n",
              "      <td>APPLE MacBook Pro M1 - (8 GB/512 GB SSD/Mac OS...</td>\n",
              "      <td>₹1,32,990</td>\n",
              "      <td>135 Ratings</td>\n",
              "      <td>4.7135 Ratings &amp; 18 Reviews</td>\n",
              "      <td>Apple M1 Processor8 GB DDR4 RAMMac OS Operatin...</td>\n",
              "    </tr>\n",
              "    <tr>\n",
              "      <th>12</th>\n",
              "      <td>APPLE MacBook Pro M1 - (8 GB/256 GB SSD/Mac OS...</td>\n",
              "      <td>₹1,14,990</td>\n",
              "      <td>258 Ratings</td>\n",
              "      <td>4.7258 Ratings &amp; 34 Reviews</td>\n",
              "      <td>Apple M1 Processor8 GB DDR4 RAMMac OS Operatin...</td>\n",
              "    </tr>\n",
              "    <tr>\n",
              "      <th>13</th>\n",
              "      <td>APPLE MacBook Pro Core i7 9th Gen - (16 GB/512...</td>\n",
              "      <td>₹1,85,659</td>\n",
              "      <td>317 Ratings</td>\n",
              "      <td>4.7317 Ratings &amp; 44 Reviews</td>\n",
              "      <td>Intel Core i7 Processor (9th Gen)16 GB DDR4 RA...</td>\n",
              "    </tr>\n",
              "    <tr>\n",
              "      <th>14</th>\n",
              "      <td>APPLE MacBook Pro Core i7 9th Gen - (16 GB/512...</td>\n",
              "      <td>₹1,85,659</td>\n",
              "      <td>40 Ratings</td>\n",
              "      <td>4.340 Ratings &amp; 7 Reviews</td>\n",
              "      <td>Intel Core i7 Processor (9th Gen)16 GB DDR4 RA...</td>\n",
              "    </tr>\n",
              "    <tr>\n",
              "      <th>15</th>\n",
              "      <td>APPLE MacBook Pro Core i9 9th Gen - (16 GB/1 T...</td>\n",
              "      <td>₹2,19,990</td>\n",
              "      <td>117 Ratings</td>\n",
              "      <td>4.7117 Ratings &amp; 14 Reviews</td>\n",
              "      <td>Intel Core i9 Processor (9th Gen)16 GB DDR4 RA...</td>\n",
              "    </tr>\n",
              "    <tr>\n",
              "      <th>16</th>\n",
              "      <td>APPLE MacBook Pro Core i9 9th Gen - (16 GB/1 T...</td>\n",
              "      <td>₹2,19,990</td>\n",
              "      <td>36 Ratings</td>\n",
              "      <td>4.336 Ratings &amp; 4 Reviews</td>\n",
              "      <td>Intel Core i9 Processor (9th Gen)16 GB DDR4 RA...</td>\n",
              "    </tr>\n",
              "    <tr>\n",
              "      <th>17</th>\n",
              "      <td>APPLE MacBook Pro Core i5 8th Gen - (8 GB/512 ...</td>\n",
              "      <td>₹1,65,990</td>\n",
              "      <td>100 Ratings</td>\n",
              "      <td>4.2100 Ratings &amp; 14 Reviews</td>\n",
              "      <td>Intel Core i5 Processor (8th Gen)8 GB DDR3 RAM...</td>\n",
              "    </tr>\n",
              "    <tr>\n",
              "      <th>18</th>\n",
              "      <td>APPLE MacBook Pro Core i5 8th Gen - (8 GB/512 ...</td>\n",
              "      <td>₹1,65,990</td>\n",
              "      <td>100 Ratings</td>\n",
              "      <td>4.2100 Ratings &amp; 14 Reviews</td>\n",
              "      <td>Intel Core i5 Processor (8th Gen)8 GB DDR3 RAM...</td>\n",
              "    </tr>\n",
              "    <tr>\n",
              "      <th>19</th>\n",
              "      <td>APPLE MacBook Pro with Touch Bar Core i5 8th G...</td>\n",
              "      <td>₹99,990</td>\n",
              "      <td>239 Ratings</td>\n",
              "      <td>4.6239 Ratings &amp; 35 Reviews</td>\n",
              "      <td>Intel Core i5 Processor (8th Gen)8 GB LPDDR3 R...</td>\n",
              "    </tr>\n",
              "    <tr>\n",
              "      <th>20</th>\n",
              "      <td>APPLE MacBook Pro with Touch Bar Core i5 10th ...</td>\n",
              "      <td>₹1,65,996</td>\n",
              "      <td>169 Ratings</td>\n",
              "      <td>4.7169 Ratings &amp; 23 Reviews</td>\n",
              "      <td>Intel Core i5 Processor (10th Gen)16 GB LPDDR4...</td>\n",
              "    </tr>\n",
              "    <tr>\n",
              "      <th>21</th>\n",
              "      <td>APPLE MacBook Pro with Touch Bar Core i5 10th ...</td>\n",
              "      <td>₹1,84,978</td>\n",
              "      <td>85 Ratings</td>\n",
              "      <td>4.885 Ratings &amp; 5 Reviews</td>\n",
              "      <td>Intel Core i5 Processor (10th Gen)16 GB LPDDR4...</td>\n",
              "    </tr>\n",
              "    <tr>\n",
              "      <th>22</th>\n",
              "      <td>APPLE MacBook Pro with Touch Bar Core i5 10th ...</td>\n",
              "      <td>₹1,64,990</td>\n",
              "      <td>27 Ratings</td>\n",
              "      <td>4.527 Ratings &amp; 5 Reviews</td>\n",
              "      <td>Intel Core i5 Processor (10th Gen)16 GB LPDDR4...</td>\n",
              "    </tr>\n",
              "    <tr>\n",
              "      <th>23</th>\n",
              "      <td>APPLE MacBook Pro with Touch Bar Core i5 8th G...</td>\n",
              "      <td>₹1,32,990</td>\n",
              "      <td>17 Ratings</td>\n",
              "      <td>4.517 Ratings &amp; 1 Reviews</td>\n",
              "      <td>Intel Core i5 Processor (8th Gen)8 GB LPDDR3 R...</td>\n",
              "    </tr>\n",
              "  </tbody>\n",
              "</table>\n",
              "</div>"
            ],
            "text/plain": [
              "                                              Proname  ...                                            Prospec\n",
              "0   APPLE MacBook Air M1 - (8 GB/256 GB SSD/Mac OS...  ...  Apple M1 Processor8 GB DDR4 RAMMac OS Operatin...\n",
              "1   APPLE MacBook Air M1 - (8 GB/256 GB SSD/Mac OS...  ...  Apple M1 Processor8 GB DDR4 RAMMac OS Operatin...\n",
              "2   APPLE MacBook Air M1 - (8 GB/512 GB SSD/Mac OS...  ...  Apple M1 Processor8 GB DDR4 RAMMac OS Operatin...\n",
              "3   APPLE MacBook Air M1 - (8 GB/512 GB SSD/Mac OS...  ...  Apple M1 Processor8 GB DDR4 RAMMac OS Operatin...\n",
              "4   APPLE MacBook Air M1 - (8 GB/512 GB SSD/Mac OS...  ...  Apple M1 Processor8 GB DDR4 RAMMac OS Operatin...\n",
              "5   APPLE MacBook Air Core i5 10th Gen - (8 GB/256...  ...  Intel Core i5 Processor (10th Gen)8 GB LPDDR4X...\n",
              "6   APPLE MacBook Air Core i5 10th Gen - (8 GB/512...  ...  Intel Core i5 Processor (10th Gen)8 GB LPDDR4X...\n",
              "7   APPLE MacBook Air Core i5 10th Gen - (8 GB/512...  ...  Intel Core i5 Processor (10th Gen)8 GB LPDDR4X...\n",
              "8   APPLE MacBook Air Core i3 10th Gen - (8 GB/256...  ...  Intel Core i3 Processor (10th Gen)8 GB LPDDR4X...\n",
              "9   APPLE MacBook Pro M1 - (8 GB/512 GB SSD/Mac OS...  ...  Apple M1 Processor8 GB DDR4 RAMMac OS Operatin...\n",
              "10  APPLE MacBook Pro M1 - (8 GB/256 GB SSD/Mac OS...  ...  Apple M1 Processor8 GB DDR4 RAMMac OS Operatin...\n",
              "11  APPLE MacBook Pro M1 - (8 GB/512 GB SSD/Mac OS...  ...  Apple M1 Processor8 GB DDR4 RAMMac OS Operatin...\n",
              "12  APPLE MacBook Pro M1 - (8 GB/256 GB SSD/Mac OS...  ...  Apple M1 Processor8 GB DDR4 RAMMac OS Operatin...\n",
              "13  APPLE MacBook Pro Core i7 9th Gen - (16 GB/512...  ...  Intel Core i7 Processor (9th Gen)16 GB DDR4 RA...\n",
              "14  APPLE MacBook Pro Core i7 9th Gen - (16 GB/512...  ...  Intel Core i7 Processor (9th Gen)16 GB DDR4 RA...\n",
              "15  APPLE MacBook Pro Core i9 9th Gen - (16 GB/1 T...  ...  Intel Core i9 Processor (9th Gen)16 GB DDR4 RA...\n",
              "16  APPLE MacBook Pro Core i9 9th Gen - (16 GB/1 T...  ...  Intel Core i9 Processor (9th Gen)16 GB DDR4 RA...\n",
              "17  APPLE MacBook Pro Core i5 8th Gen - (8 GB/512 ...  ...  Intel Core i5 Processor (8th Gen)8 GB DDR3 RAM...\n",
              "18  APPLE MacBook Pro Core i5 8th Gen - (8 GB/512 ...  ...  Intel Core i5 Processor (8th Gen)8 GB DDR3 RAM...\n",
              "19  APPLE MacBook Pro with Touch Bar Core i5 8th G...  ...  Intel Core i5 Processor (8th Gen)8 GB LPDDR3 R...\n",
              "20  APPLE MacBook Pro with Touch Bar Core i5 10th ...  ...  Intel Core i5 Processor (10th Gen)16 GB LPDDR4...\n",
              "21  APPLE MacBook Pro with Touch Bar Core i5 10th ...  ...  Intel Core i5 Processor (10th Gen)16 GB LPDDR4...\n",
              "22  APPLE MacBook Pro with Touch Bar Core i5 10th ...  ...  Intel Core i5 Processor (10th Gen)16 GB LPDDR4...\n",
              "23  APPLE MacBook Pro with Touch Bar Core i5 8th G...  ...  Intel Core i5 Processor (8th Gen)8 GB LPDDR3 R...\n",
              "\n",
              "[24 rows x 5 columns]"
            ]
          },
          "metadata": {
            "tags": []
          },
          "execution_count": 39
        }
      ]
    },
    {
      "cell_type": "code",
      "metadata": {
        "id": "_KW5Ejhy3Js0"
      },
      "source": [
        "data.to_csv('FlipcartScrap.csv',index=False)"
      ],
      "execution_count": 40,
      "outputs": []
    }
  ]
}